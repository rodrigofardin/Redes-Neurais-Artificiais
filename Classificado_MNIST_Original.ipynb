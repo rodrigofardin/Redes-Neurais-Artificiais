{
  "nbformat": 4,
  "nbformat_minor": 0,
  "metadata": {
    "colab": {
      "provenance": [],
      "authorship_tag": "ABX9TyOJ6iBcxQBi3AGTK2huULPW",
      "include_colab_link": true
    },
    "kernelspec": {
      "name": "python3",
      "display_name": "Python 3"
    },
    "language_info": {
      "name": "python"
    }
  },
  "cells": [
    {
      "cell_type": "markdown",
      "metadata": {
        "id": "view-in-github",
        "colab_type": "text"
      },
      "source": [
        "<a href=\"https://colab.research.google.com/github/rodrigofardin/Redes-Neurais-Artificiais/blob/main/Classificado_MNIST_Original.ipynb\" target=\"_parent\"><img src=\"https://colab.research.google.com/assets/colab-badge.svg\" alt=\"Open In Colab\"/></a>"
      ]
    },
    {
      "cell_type": "code",
      "source": [
        "from pathlib import Path\n",
        "import numpy as np\n",
        "import struct\n",
        "import pandas as pd\n",
        "\n",
        "from tensorflow import keras\n",
        "from tensorflow.keras import layers\n",
        "from tensorflow.keras.utils import to_categorical\n",
        "from keras.utils.sidecar_evaluator import optimizer\n",
        "\n",
        "from prompt_toolkit.shortcuts.progress_bar.base import E\n",
        "\n",
        "from sklearn.base import BaseEstimator, ClassifierMixin, TransformerMixin\n",
        "from sklearn.metrics import accuracy_score\n",
        "from sklearn.pipeline import Pipeline\n",
        "from sklearn.preprocessing import MinMaxScaler"
      ],
      "metadata": {
        "id": "Gs1czWB-mJpW"
      },
      "execution_count": 66,
      "outputs": []
    },
    {
      "cell_type": "code",
      "source": [
        "from google.colab import drive\n",
        "drive.mount('/content/drive')"
      ],
      "metadata": {
        "colab": {
          "base_uri": "https://localhost:8080/"
        },
        "id": "FwTwzqfakzei",
        "outputId": "a640d731-143f-4f46-af81-1aceefe6bc44"
      },
      "execution_count": 9,
      "outputs": [
        {
          "output_type": "stream",
          "name": "stdout",
          "text": [
            "Mounted at /content/drive\n"
          ]
        }
      ]
    },
    {
      "cell_type": "code",
      "source": [
        "class DataLoading(object):\n",
        "    def __init__(self, training_images_filepath,training_labels_filepath,\n",
        "                test_images_filepath, test_labels_filepath):\n",
        "      self.training_images_filepath = training_images_filepath\n",
        "      self.training_labels_filepath = training_labels_filepath\n",
        "      self.test_images_filepath = test_images_filepath\n",
        "      self.test_labels_filepath = test_labels_filepath\n",
        "    \n",
        "    def read_images_labels(self, images_filepath, labels_filepath):        \n",
        "      labels = []\n",
        "      with open(labels_filepath, 'rb') as file:\n",
        "          _,_ = struct.unpack('>2I',file.read(8))\n",
        "          labels = bytearray(file.read())        \n",
        "      with open(images_filepath, 'rb') as file:\n",
        "          _,size,rows,cols = struct.unpack(\">4I\", file.read(16))\n",
        "          image_data = bytearray(file.read())        \n",
        "      images = []\n",
        "      for i in range(size):\n",
        "          images.append([0] * rows * cols)\n",
        "      for i in range(size):\n",
        "          img = np.array(image_data[i * rows * cols:(i + 1) * rows * cols])\n",
        "          img = img.reshape(28, 28)\n",
        "          images[i][:] = img            \n",
        "      \n",
        "      return images, labels\n",
        "\n",
        "    def load_data(self):\n",
        "      x_train, y_train = self.read_images_labels(self.training_images_filepath, self.training_labels_filepath)\n",
        "      x_test, y_test = self.read_images_labels(self.test_images_filepath, self.test_labels_filepath)\n",
        "      return (x_train, y_train),(x_test, y_test)\n",
        "\n",
        "    def prepare_data(self):\n",
        "\n",
        "      (x_train, y_train), (x_test, y_test) = self.load_data()\n",
        "      x_train = np.array(x_train).reshape(60000, 28 * 28)\n",
        "      x_test = np.array(x_test).reshape(10000, 28 * 28)\n",
        "      x_train = x_train.astype(\"float32\") / 255\n",
        "      x_test = x_test.astype(\"float32\") / 255\n",
        "      X_train = pd.DataFrame(x_train)\n",
        "      X_test = pd.DataFrame(x_test)\n",
        "      y_train = pd.DataFrame(np.array(y_train).flatten())\n",
        "      y_test = pd.DataFrame(np.array(y_test).flatten())\n",
        "      y_train.rename(columns={0:'target'}, inplace =True)\n",
        "      y_test.rename(columns={0:'target'}, inplace =True)\n",
        "      return (X_train, y_train), (X_test, y_test)"
      ],
      "metadata": {
        "id": "fxynk5CzmGC4"
      },
      "execution_count": 41,
      "outputs": []
    },
    {
      "cell_type": "code",
      "source": [
        "training_images_filepath = '/content/drive/MyDrive/python/Redes Neurais Artificiais/MNIST/archive/train-images.idx3-ubyte'\n",
        "training_labels_filepath = '/content/drive/MyDrive/python/Redes Neurais Artificiais/MNIST/archive/train-labels.idx1-ubyte'\n",
        "test_images_filepath = '/content/drive/MyDrive/python/Redes Neurais Artificiais/MNIST/archive/t10k-images.idx3-ubyte'\n",
        "test_labels_filepath = '/content/drive/MyDrive/python/Redes Neurais Artificiais/MNIST/archive/t10k-labels.idx1-ubyte'\n",
        "\n",
        "# load MINST dataset\n",
        "\n",
        "mnist_dataloader = DataLoading(training_images_filepath, training_labels_filepath,\n",
        "                               test_images_filepath, test_labels_filepath)\n",
        "(train_images, train_labels), (test_images, test_labels) = mnist_dataloader.prepare_data()\n"
      ],
      "metadata": {
        "id": "SXykV2Ohnw3R"
      },
      "execution_count": 42,
      "outputs": []
    },
    {
      "cell_type": "code",
      "source": [
        "model = keras.Sequential([\n",
        "    layers.Dense(512, activation=\"relu\"),\n",
        "    layers.Dense(10, activation=\"softmax\")\n",
        "])"
      ],
      "metadata": {
        "id": "4ZX7OOwSgHvu"
      },
      "execution_count": 45,
      "outputs": []
    },
    {
      "cell_type": "code",
      "source": [
        "model.compile(optimizer=\"rmsprop\",\n",
        "              loss=\"sparse_categorical_crossentropy\",\n",
        "              metrics=[\"accuracy\"])"
      ],
      "metadata": {
        "id": "Nrs57fZYgL90"
      },
      "execution_count": 46,
      "outputs": []
    },
    {
      "cell_type": "code",
      "source": [
        "(train_images.shape, train_labels.shape), (test_images.shape, test_labels.shape)"
      ],
      "metadata": {
        "colab": {
          "base_uri": "https://localhost:8080/"
        },
        "id": "tmNDc3-egOtz",
        "outputId": "ec15f5c2-4b60-45aa-e279-95a22e840015"
      },
      "execution_count": 44,
      "outputs": [
        {
          "output_type": "execute_result",
          "data": {
            "text/plain": [
              "(((60000, 784), (60000, 1)), ((10000, 784), (10000, 1)))"
            ]
          },
          "metadata": {},
          "execution_count": 44
        }
      ]
    },
    {
      "cell_type": "code",
      "source": [
        "model.fit(train_images, train_labels, epochs=5, batch_size=128)"
      ],
      "metadata": {
        "colab": {
          "base_uri": "https://localhost:8080/"
        },
        "id": "VGCWNKNpgP8r",
        "outputId": "2b25801f-40d5-4156-f454-34202027577d"
      },
      "execution_count": 47,
      "outputs": [
        {
          "output_type": "stream",
          "name": "stdout",
          "text": [
            "Epoch 1/5\n",
            "469/469 [==============================] - 6s 10ms/step - loss: 0.2660 - accuracy: 0.9236\n",
            "Epoch 2/5\n",
            "469/469 [==============================] - 5s 11ms/step - loss: 0.1082 - accuracy: 0.9679\n",
            "Epoch 3/5\n",
            "469/469 [==============================] - 6s 13ms/step - loss: 0.0705 - accuracy: 0.9789\n",
            "Epoch 4/5\n",
            "469/469 [==============================] - 5s 10ms/step - loss: 0.0511 - accuracy: 0.9845\n",
            "Epoch 5/5\n",
            "469/469 [==============================] - 6s 13ms/step - loss: 0.0389 - accuracy: 0.9886\n"
          ]
        },
        {
          "output_type": "execute_result",
          "data": {
            "text/plain": [
              "<keras.callbacks.History at 0x7fc9b0a016c0>"
            ]
          },
          "metadata": {},
          "execution_count": 47
        }
      ]
    },
    {
      "cell_type": "code",
      "source": [
        "predicted = model.predict(test_images[0:1])\n",
        "predicted[0]"
      ],
      "metadata": {
        "colab": {
          "base_uri": "https://localhost:8080/"
        },
        "id": "C2lOJNVlgROT",
        "outputId": "56831182-fa63-4a46-b9c8-6dccd12e9812"
      },
      "execution_count": 48,
      "outputs": [
        {
          "output_type": "stream",
          "name": "stdout",
          "text": [
            "1/1 [==============================] - 0s 87ms/step\n"
          ]
        },
        {
          "output_type": "execute_result",
          "data": {
            "text/plain": [
              "array([5.67130343e-08, 1.41749465e-08, 1.40544416e-05, 3.22316191e-05,\n",
              "       1.21590599e-10, 1.03967409e-07, 2.10594216e-12, 9.99949455e-01,\n",
              "       2.92004165e-06, 1.29809337e-06], dtype=float32)"
            ]
          },
          "metadata": {},
          "execution_count": 48
        }
      ]
    },
    {
      "cell_type": "code",
      "source": [
        "test_loss, test_acc = model.evaluate(test_images, test_labels)\n",
        "print(f\"test_acc: {test_acc}\")"
      ],
      "metadata": {
        "colab": {
          "base_uri": "https://localhost:8080/"
        },
        "id": "_qwikagrgUy7",
        "outputId": "45360ded-64b4-4568-90ac-bde743f4ce6e"
      },
      "execution_count": 49,
      "outputs": [
        {
          "output_type": "stream",
          "name": "stdout",
          "text": [
            "313/313 [==============================] - 2s 5ms/step - loss: 0.0652 - accuracy: 0.9784\n",
            "test_acc: 0.9783999919891357\n"
          ]
        }
      ]
    },
    {
      "cell_type": "code",
      "source": [
        "train_labels_hot = to_categorical(train_labels)\n",
        "test_labels_hot = to_categorical(test_labels)"
      ],
      "metadata": {
        "id": "FVU3biJHgV2j"
      },
      "execution_count": 53,
      "outputs": []
    },
    {
      "cell_type": "code",
      "source": [
        "class RedeNeural(BaseEstimator, ClassifierMixin):\n",
        "  def __init__(self, epochs=5, batch_size=128):\n",
        "    self.epochs = epochs\n",
        "    self.batch_size = batch_size\n",
        "  def fit(self, X, y):\n",
        "    self.model = keras.Sequential([\n",
        "        layers.Dense(512, activation=\"relu\"),\n",
        "        layers.Dense(y.shape[1], activation=\"softmax\")\n",
        "    ])\n",
        "    self.model.compile(optimizer=\"rmsprop\",\n",
        "                       loss=\"categorical_crossentropy\",\n",
        "                       metrics=[\"accuracy\"])\n",
        "    self.model.fit(X, y, epochs=self.epochs, batch_size=self.batch_size)\n",
        "    return self\n",
        "  def predict(self, X, y=None):\n",
        "    probabilities = self.model.predict(X)\n",
        "    return np.array([(a == np.max(a)) for a in probabilities])\n",
        "\n",
        "modelo = RedeNeural()\n",
        "modelo.fit(train_images, train_labels_hot)\n",
        "ypred = modelo.predict(test_images)\n",
        "accuracy_score(test_labels_hot, ypred)"
      ],
      "metadata": {
        "colab": {
          "base_uri": "https://localhost:8080/"
        },
        "id": "oxwSCTQegXSj",
        "outputId": "779895c2-bc26-42a3-d080-6da1a9f9a7de"
      },
      "execution_count": 56,
      "outputs": [
        {
          "output_type": "stream",
          "name": "stdout",
          "text": [
            "Epoch 1/5\n",
            "469/469 [==============================] - 5s 10ms/step - loss: 0.2628 - accuracy: 0.9242\n",
            "Epoch 2/5\n",
            "469/469 [==============================] - 6s 14ms/step - loss: 0.1068 - accuracy: 0.9690\n",
            "Epoch 3/5\n",
            "469/469 [==============================] - 5s 10ms/step - loss: 0.0705 - accuracy: 0.9792\n",
            "Epoch 4/5\n",
            "469/469 [==============================] - 5s 11ms/step - loss: 0.0508 - accuracy: 0.9847\n",
            "Epoch 5/5\n",
            "469/469 [==============================] - 6s 13ms/step - loss: 0.0385 - accuracy: 0.9883\n",
            "313/313 [==============================] - 1s 3ms/step\n"
          ]
        },
        {
          "output_type": "execute_result",
          "data": {
            "text/plain": [
              "0.9798"
            ]
          },
          "metadata": {},
          "execution_count": 56
        }
      ]
    },
    {
      "cell_type": "code",
      "source": [
        "class RedeNeural(BaseEstimator, ClassifierMixin):\n",
        "  def __init__(self, epochs=5, batch_size=128):\n",
        "    self.epochs = epochs\n",
        "    self.batch_size = batch_size\n",
        "\n",
        "  def fit(self, X, y):\n",
        "    self.labels, ids = np.unique(y, return_inverse=True)\n",
        "    yhot = keras.utils.to_categorical(ids)\n",
        "    self.model = keras.Sequential([\n",
        "        layers.Dense(512, activation=\"relu\"),\n",
        "        layers.Dense(yhot.shape[1], activation=\"softmax\")\n",
        "    ])\n",
        "    self.model.compile(optimizer=\"rmsprop\",\n",
        "                       loss=\"categorical_crossentropy\",\n",
        "                       metrics=[\"accuracy\"])\n",
        "    self.model.fit(X, yhot, epochs=self.epochs, batch_size=self.batch_size)\n",
        "    return self\n",
        "\n",
        "  def predict(self, X, y=None):\n",
        "    probabilities = self.model.predict(X)\n",
        "    ypred = self.labels[np.argmax(probabilities, axis=1)]\n",
        "    return ypred\n",
        "\n",
        "modelo = RedeNeural()\n",
        "modelo.fit(train_images, train_labels)\n",
        "ypred = modelo.predict(test_images)\n",
        "accuracy_score(test_labels, ypred)"
      ],
      "metadata": {
        "colab": {
          "base_uri": "https://localhost:8080/"
        },
        "id": "1Kh6mXnYgYnd",
        "outputId": "de8bc326-9f0b-4ff8-a5c9-4217915cee92"
      },
      "execution_count": 57,
      "outputs": [
        {
          "output_type": "stream",
          "name": "stdout",
          "text": [
            "Epoch 1/5\n",
            "469/469 [==============================] - 5s 11ms/step - loss: 0.2627 - accuracy: 0.9245\n",
            "Epoch 2/5\n",
            "469/469 [==============================] - 6s 13ms/step - loss: 0.1065 - accuracy: 0.9683\n",
            "Epoch 3/5\n",
            "469/469 [==============================] - 5s 10ms/step - loss: 0.0702 - accuracy: 0.9792\n",
            "Epoch 4/5\n",
            "469/469 [==============================] - 5s 11ms/step - loss: 0.0506 - accuracy: 0.9849\n",
            "Epoch 5/5\n",
            "469/469 [==============================] - 9s 20ms/step - loss: 0.0388 - accuracy: 0.9887\n",
            "313/313 [==============================] - 1s 3ms/step\n"
          ]
        },
        {
          "output_type": "execute_result",
          "data": {
            "text/plain": [
              "0.9795"
            ]
          },
          "metadata": {},
          "execution_count": 57
        }
      ]
    },
    {
      "cell_type": "code",
      "source": [
        "mnist_dataloader = DataLoading(training_images_filepath, training_labels_filepath,\n",
        "                               test_images_filepath, test_labels_filepath)\n",
        "(train_images, train_labels), (test_images, test_labels) = mnist_dataloader.prepare_data()"
      ],
      "metadata": {
        "id": "NdBL92NZgaNN"
      },
      "execution_count": 58,
      "outputs": []
    },
    {
      "cell_type": "code",
      "source": [
        "modelo = Pipeline([\n",
        "    (\"scaler\", MinMaxScaler()), \n",
        "    (\"ann\", RedeNeural())\n",
        "])\n",
        "modelo.fit(train_images, train_labels)\n",
        "ypred = modelo.predict(test_images)\n",
        "accuracy_score(test_labels, ypred)"
      ],
      "metadata": {
        "colab": {
          "base_uri": "https://localhost:8080/"
        },
        "id": "LD147-47gc0D",
        "outputId": "26cc2a31-3555-4434-ad30-186fb327e1c6"
      },
      "execution_count": 60,
      "outputs": [
        {
          "output_type": "stream",
          "name": "stdout",
          "text": [
            "Epoch 1/5\n",
            "469/469 [==============================] - 9s 18ms/step - loss: 0.2633 - accuracy: 0.9242\n",
            "Epoch 2/5\n",
            "469/469 [==============================] - 6s 13ms/step - loss: 0.1061 - accuracy: 0.9682\n",
            "Epoch 3/5\n",
            "469/469 [==============================] - 5s 11ms/step - loss: 0.0698 - accuracy: 0.9789\n",
            "Epoch 4/5\n",
            "469/469 [==============================] - 10s 21ms/step - loss: 0.0506 - accuracy: 0.9850\n",
            "Epoch 5/5\n",
            "469/469 [==============================] - 6s 14ms/step - loss: 0.0390 - accuracy: 0.9884\n",
            "313/313 [==============================] - 1s 3ms/step\n"
          ]
        },
        {
          "output_type": "execute_result",
          "data": {
            "text/plain": [
              "0.9802"
            ]
          },
          "metadata": {},
          "execution_count": 60
        }
      ]
    },
    {
      "cell_type": "code",
      "source": [
        "class DividePor255(BaseEstimator, TransformerMixin):\n",
        "  def fit(self, X, y):\n",
        "    return self\n",
        "  def transform(self, X, y=None):\n",
        "    return X.astype(\"float32\") / 255\n",
        "\n",
        "from sklearn.pipeline import Pipeline\n",
        "\n",
        "modelo = Pipeline([\n",
        "    (\"scaler\", DividePor255()), \n",
        "    (\"ann\", RedeNeural())\n",
        "])\n",
        "modelo.fit(train_images, train_labels)\n",
        "ypred = modelo.predict(test_images)\n",
        "accuracy_score(test_labels, ypred)"
      ],
      "metadata": {
        "colab": {
          "base_uri": "https://localhost:8080/"
        },
        "id": "Gvr-EeisgeCs",
        "outputId": "fc93dc52-c0bc-4308-e521-8f5ab95f4e9d"
      },
      "execution_count": 67,
      "outputs": [
        {
          "output_type": "stream",
          "name": "stdout",
          "text": [
            "Epoch 1/5\n",
            "469/469 [==============================] - 8s 14ms/step - loss: 2.2397 - accuracy: 0.2613\n",
            "Epoch 2/5\n",
            "469/469 [==============================] - 7s 14ms/step - loss: 1.6853 - accuracy: 0.5942\n",
            "Epoch 3/5\n",
            "469/469 [==============================] - 5s 11ms/step - loss: 1.0509 - accuracy: 0.7448\n",
            "Epoch 4/5\n",
            "469/469 [==============================] - 5s 10ms/step - loss: 0.7542 - accuracy: 0.8100\n",
            "Epoch 5/5\n",
            "469/469 [==============================] - 6s 13ms/step - loss: 0.6076 - accuracy: 0.8395\n",
            "313/313 [==============================] - 1s 3ms/step\n"
          ]
        },
        {
          "output_type": "execute_result",
          "data": {
            "text/plain": [
              "0.8555"
            ]
          },
          "metadata": {},
          "execution_count": 67
        }
      ]
    },
    {
      "cell_type": "code",
      "source": [
        "mnist_dataloader = DataLoading(training_images_filepath, training_labels_filepath,\n",
        "                               test_images_filepath, test_labels_filepath)\n",
        "(train_images, train_labels), (test_images, test_labels) = mnist_dataloader.prepare_data()"
      ],
      "metadata": {
        "id": "jQNDruN2gg4l"
      },
      "execution_count": 68,
      "outputs": []
    },
    {
      "cell_type": "code",
      "source": [
        "class RedeNeural(BaseEstimator, ClassifierMixin):\n",
        "  def __init__(self, epochs=5, batch_size=128):\n",
        "    self.epochs = epochs\n",
        "    self.batch_size = batch_size\n",
        "\n",
        "  def fit(self, X, y):\n",
        "    self.labels, ids = np.unique(y, return_inverse=True)\n",
        "    yhot = keras.utils.to_categorical(ids)\n",
        "    self.model = keras.Sequential([\n",
        "        layers.Conv2D(4, 4, activation='relu'),\n",
        "        layers.Flatten(),\n",
        "        layers.Dense(512, activation=\"relu\"),\n",
        "        layers.Dense(yhot.shape[1], activation=\"softmax\")\n",
        "    ])\n",
        "    self.model.compile(optimizer=\"rmsprop\",\n",
        "                       loss=\"categorical_crossentropy\",\n",
        "                       metrics=[\"accuracy\"])\n",
        "    self.model.fit(X, yhot, epochs=self.epochs, batch_size=self.batch_size)\n",
        "    return self\n",
        "\n",
        "  def predict(self, X, y=None):\n",
        "    probabilities = self.model.predict(X)\n",
        "    ypred = self.labels[np.argmax(probabilities, axis=1)]\n",
        "    return ypred\n",
        "\n",
        "class MudaShape(BaseEstimator, TransformerMixin):\n",
        "  def fit(self, X, y):\n",
        "    return self\n",
        "  \n",
        "  def transform(self, X, y=None):\n",
        "    if isinstance(X, pd.DataFrame):\n",
        "      X = X.to_numpy()\n",
        "    X = X.reshape((-1, 28, 28, 1))\n",
        "    return X\n",
        "\n",
        "modelo = Pipeline([\n",
        "    (\"scaler\", DividePor255()), \n",
        "    (\"reshape\", MudaShape()), \n",
        "    (\"ann\", RedeNeural())\n",
        "])\n",
        "modelo.fit(train_images, train_labels)\n",
        "ypred = modelo.predict(test_images)\n",
        "accuracy_score(test_labels, ypred)  "
      ],
      "metadata": {
        "colab": {
          "base_uri": "https://localhost:8080/"
        },
        "id": "ltZgvPxWgh4z",
        "outputId": "745e004b-6b30-4b11-9540-5cbb35eaff73"
      },
      "execution_count": 72,
      "outputs": [
        {
          "output_type": "stream",
          "name": "stdout",
          "text": [
            "Epoch 1/5\n",
            "469/469 [==============================] - 35s 72ms/step - loss: 1.4981 - accuracy: 0.5619\n",
            "Epoch 2/5\n",
            "469/469 [==============================] - 32s 69ms/step - loss: 0.4051 - accuracy: 0.8832\n",
            "Epoch 3/5\n",
            "469/469 [==============================] - 31s 67ms/step - loss: 0.3050 - accuracy: 0.9093\n",
            "Epoch 4/5\n",
            "469/469 [==============================] - 31s 67ms/step - loss: 0.2392 - accuracy: 0.9293\n",
            "Epoch 5/5\n",
            "469/469 [==============================] - 32s 68ms/step - loss: 0.1893 - accuracy: 0.9435\n",
            "313/313 [==============================] - 3s 11ms/step\n"
          ]
        },
        {
          "output_type": "execute_result",
          "data": {
            "text/plain": [
              "0.9504"
            ]
          },
          "metadata": {},
          "execution_count": 72
        }
      ]
    }
  ]
}